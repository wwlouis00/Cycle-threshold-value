{
 "cells": [
  {
   "cell_type": "code",
   "execution_count": 1,
   "id": "918ab608",
   "metadata": {},
   "outputs": [
    {
     "data": {
      "text/html": [
       "<div>\n",
       "<style scoped>\n",
       "    .dataframe tbody tr th:only-of-type {\n",
       "        vertical-align: middle;\n",
       "    }\n",
       "\n",
       "    .dataframe tbody tr th {\n",
       "        vertical-align: top;\n",
       "    }\n",
       "\n",
       "    .dataframe thead th {\n",
       "        text-align: right;\n",
       "    }\n",
       "</style>\n",
       "<table border=\"1\" class=\"dataframe\">\n",
       "  <thead>\n",
       "    <tr style=\"text-align: right;\">\n",
       "      <th></th>\n",
       "      <th>well1</th>\n",
       "      <th>well2</th>\n",
       "      <th>well3</th>\n",
       "      <th>well4</th>\n",
       "      <th>well5</th>\n",
       "      <th>well6</th>\n",
       "      <th>well7</th>\n",
       "      <th>well8</th>\n",
       "      <th>well9</th>\n",
       "      <th>well10</th>\n",
       "      <th>well11</th>\n",
       "      <th>well12</th>\n",
       "      <th>well13</th>\n",
       "      <th>well14</th>\n",
       "      <th>well15</th>\n",
       "      <th>well16</th>\n",
       "    </tr>\n",
       "  </thead>\n",
       "  <tbody>\n",
       "    <tr>\n",
       "      <th>0</th>\n",
       "      <td>151</td>\n",
       "      <td>145</td>\n",
       "      <td>151</td>\n",
       "      <td>136</td>\n",
       "      <td>141</td>\n",
       "      <td>153</td>\n",
       "      <td>144</td>\n",
       "      <td>136</td>\n",
       "      <td>151</td>\n",
       "      <td>136</td>\n",
       "      <td>114</td>\n",
       "      <td>122</td>\n",
       "      <td>132</td>\n",
       "      <td>139</td>\n",
       "      <td>130</td>\n",
       "      <td>144</td>\n",
       "    </tr>\n",
       "  </tbody>\n",
       "</table>\n",
       "</div>"
      ],
      "text/plain": [
       "   well1  well2  well3  well4  well5  well6  well7  well8  well9  well10  \\\n",
       "0    151    145    151    136    141    153    144    136    151     136   \n",
       "\n",
       "   well11  well12  well13  well14  well15  well16  \n",
       "0     114     122     132     139     130     144  "
      ]
     },
     "execution_count": 1,
     "metadata": {},
     "output_type": "execute_result"
    }
   ],
   "source": [
    "import pandas as pd\n",
    "df = pd.read_csv('cali_factor.csv')\n",
    "df.loc[0,'well1']"
   ]
  },
  {
   "cell_type": "code",
   "execution_count": null,
   "id": "972264fb",
   "metadata": {},
   "outputs": [],
   "source": []
  }
 ],
 "metadata": {
  "kernelspec": {
   "display_name": "Python 3",
   "language": "python",
   "name": "python3"
  },
  "language_info": {
   "codemirror_mode": {
    "name": "ipython",
    "version": 3
   },
   "file_extension": ".py",
   "mimetype": "text/x-python",
   "name": "python",
   "nbconvert_exporter": "python",
   "pygments_lexer": "ipython3",
   "version": "3.8.8"
  }
 },
 "nbformat": 4,
 "nbformat_minor": 5
}
