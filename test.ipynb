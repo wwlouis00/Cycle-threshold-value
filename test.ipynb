{
 "cells": [
  {
   "cell_type": "code",
   "execution_count": 7,
   "metadata": {},
   "outputs": [
    {
     "name": "stdout",
     "output_type": "stream",
     "text": [
      "         0         1   2      city\n",
      "0      Ali     Azmat  30    Lahore\n",
      "1  Sharukh      Khan  40     Dehli\n",
      "2    Linus  Torvalds  70  New York\n"
     ]
    }
   ],
   "source": [
    "# import pandas as pd\n",
    "# raw_file_path = \"./data/2022_04_11_13_11_08.csv\"\n",
    "# df_raw = pd.read_csv(raw_file_path)\n",
    "# df_raw\n",
    "import pandas as pd\n",
    "data = [\n",
    "    ['Ali',\n",
    "     'Azmat',\n",
    "     '30'],\n",
    "    ['Sharukh',\n",
    "     'Khan',\n",
    "     '40'],\n",
    "    ['Linus',\n",
    "     'Torvalds',\n",
    "     '70']\n",
    "]\n",
    "df = pd.DataFrame(data) \n",
    "# df = pd.DataFrame(data,columns=['First','Last','Age']) \n",
    "df.insert(0,\"city\",['Lahore','Dehli','New York'],True)\n",
    "print(df)"
   ]
  }
 ],
 "metadata": {
  "interpreter": {
   "hash": "4d9defa72c2715dab9f7f172572cd30a1ab1a2083462d32ef96aadb7c6e0c73b"
  },
  "kernelspec": {
   "display_name": "Python 3.8.8 ('base')",
   "language": "python",
   "name": "python3"
  },
  "language_info": {
   "codemirror_mode": {
    "name": "ipython",
    "version": 3
   },
   "file_extension": ".py",
   "mimetype": "text/x-python",
   "name": "python",
   "nbconvert_exporter": "python",
   "pygments_lexer": "ipython3",
   "version": "3.8.8"
  },
  "orig_nbformat": 4
 },
 "nbformat": 4,
 "nbformat_minor": 2
}
